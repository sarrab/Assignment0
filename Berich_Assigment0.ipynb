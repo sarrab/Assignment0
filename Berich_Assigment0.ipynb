{
  "nbformat": 4,
  "nbformat_minor": 0,
  "metadata": {
    "colab": {
      "name": "Berich_Assigment0.ipynb",
      "provenance": [],
      "collapsed_sections": [
        "plOvMmi_r58f"
      ]
    },
    "kernelspec": {
      "name": "python3",
      "display_name": "Python 3"
    }
  },
  "cells": [
    {
      "cell_type": "markdown",
      "metadata": {
        "id": "7byzpM7AF5vN"
      },
      "source": [
        "| ![](https://github.com/sarrab/Assignment0/blob/main/logoUnil.png?raw=true) | ![](https://github.com/sarrab/Assignment0/blob/main/diabeticML.jpg?raw=true) | ![](https://github.com/sarrab/Assignment0/blob/main/Capture.PNG?raw=true) |\r\n",
        "| :- | -: | -: |"
      ]
    },
    {
      "cell_type": "markdown",
      "metadata": {
        "id": "J06OfMvcS8yK"
      },
      "source": [
        "#Assignment 0 : Python Notebooks and Datasets\n",
        "##Authors \n",
        "**Sarra Berich** \n",
        "Student number: 06805915\n",
        "## Goal\n",
        "The goal for this assignment is to get familiarized with creating a Python notebook and do some simple data exploration. A tangent goal is to learn how to author a video, and upload it on youtube. \n",
        "##Description\n",
        "Find an interesting dataset from the Internet. It is better if the dataset is relatively new, e.g., after year 2000, and it should be several thousands datapoints. \n",
        "The dataset may be in CSV, JSON, XLS or other format. Prepare a Python notebook that should answer in some narrative form the following:\n",
        "\n",
        "\n",
        "1.   Task 1:\n",
        "Describe the dataset. Why did you choose it? (most likely it should be something that you are passionate about!) What is it about? Put a link where one can download it. What is the dimensionality of the dataset (number of columns)? What is the cardinality of the dataset (number of rows/objects)?\n",
        "2.   Task 2:\n",
        "What type of questions would one be interested to ask/answer about this dataset? For example,\n",
        "predict something about…, etc. Is this a regression, a classification, a clustering, an anomaly\n",
        "detection problem? There may be many interesting questions so just enumerate several of them.\n",
        "\n",
        "\n"
      ]
    },
    {
      "cell_type": "markdown",
      "metadata": {
        "id": "9-u8kauGTPaG"
      },
      "source": [
        "##Task 1 : Choose a dataset \n",
        "\n",
        "---\n",
        "\n",
        "When I had studied mathematics, I was very fascinated by the use of \n",
        "mathematical models in biological simulation. Since then I have been \n",
        "very interested in the application of engineering and technology in the medical field. Therefore, in this exercise, I looked -in the resources that the professor gave- a dataset related to health.\n",
        "\n",
        "The dataset [Early stage diabetes risk prediction dataset\n",
        "](https://archive.ics.uci.edu/ml/datasets/Early+stage+diabetes+risk+prediction+dataset.) comes from [UCI Machine Learning Repository](https://archive.ics.uci.edu/ml/index.php).\n",
        "\n",
        "\n",
        "![](https://github.com/sarrab/Assignment0/blob/main/stopDiabete.jpg?raw=true)"
      ]
    },
    {
      "cell_type": "markdown",
      "metadata": {
        "id": "2_HJh8bFNiXL"
      },
      "source": [
        "###Import Data (from github repository)"
      ]
    },
    {
      "cell_type": "code",
      "metadata": {
        "id": "dyhcfKVdfriA"
      },
      "source": [
        "  #importing pandas \n",
        "import pandas as pd "
      ],
      "execution_count": 10,
      "outputs": []
    },
    {
      "cell_type": "code",
      "metadata": {
        "id": "NpWucXg-gOPr"
      },
      "source": [
        "#import the dataset\n",
        "data_url = 'https://raw.githubusercontent.com/sarrab/Assignment0/main/diabetes_data_upload.csv'\n",
        "data_df = pd.read_csv(data_url,sep =',')"
      ],
      "execution_count": 11,
      "outputs": []
    },
    {
      "cell_type": "markdown",
      "metadata": {
        "id": "Zz_zZs0mHkLw"
      },
      "source": [
        "###Explore Data"
      ]
    },
    {
      "cell_type": "markdown",
      "metadata": {
        "id": "Jn0EbNJtIi0y"
      },
      "source": [
        "We can see some examples of data by using `head()` method is used to return top n (5 by default) rows of a data frame. And we can have more informations about features (their types) by using `info() `method. The `shape` attribute gives us information about the dimensionality of the dataset (number of columns) and the cardinality of the dataset(number of rows/objects).\r\n",
        "As we can see below, our data contains 17 columns and 520 rows.\r\n",
        "Columns contain :\r\n",
        "\r\n",
        "1.   Patient information : Age and Gender\r\n",
        "2.   Symptoms (): Poluria, Poydipsia,suddenweight loss...\r\n",
        "3.   Class: if the patient has the disease or not\r\n",
        "\r\n",
        "\r\n",
        "\r\n"
      ]
    },
    {
      "cell_type": "code",
      "metadata": {
        "id": "1WxUTQulgbVz",
        "colab": {
          "base_uri": "https://localhost:8080/",
          "height": 212
        },
        "outputId": "a93efa80-f20d-4d69-acb2-2b4e586e2061"
      },
      "source": [
        "data_df.head()"
      ],
      "execution_count": 12,
      "outputs": [
        {
          "output_type": "execute_result",
          "data": {
            "text/html": [
              "<div>\n",
              "<style scoped>\n",
              "    .dataframe tbody tr th:only-of-type {\n",
              "        vertical-align: middle;\n",
              "    }\n",
              "\n",
              "    .dataframe tbody tr th {\n",
              "        vertical-align: top;\n",
              "    }\n",
              "\n",
              "    .dataframe thead th {\n",
              "        text-align: right;\n",
              "    }\n",
              "</style>\n",
              "<table border=\"1\" class=\"dataframe\">\n",
              "  <thead>\n",
              "    <tr style=\"text-align: right;\">\n",
              "      <th></th>\n",
              "      <th>Age</th>\n",
              "      <th>Gender</th>\n",
              "      <th>Polyuria</th>\n",
              "      <th>Polydipsia</th>\n",
              "      <th>sudden weight loss</th>\n",
              "      <th>weakness</th>\n",
              "      <th>Polyphagia</th>\n",
              "      <th>Genital thrush</th>\n",
              "      <th>visual blurring</th>\n",
              "      <th>Itching</th>\n",
              "      <th>Irritability</th>\n",
              "      <th>delayed healing</th>\n",
              "      <th>partial paresis</th>\n",
              "      <th>muscle stiffness</th>\n",
              "      <th>Alopecia</th>\n",
              "      <th>Obesity</th>\n",
              "      <th>class</th>\n",
              "    </tr>\n",
              "  </thead>\n",
              "  <tbody>\n",
              "    <tr>\n",
              "      <th>0</th>\n",
              "      <td>40</td>\n",
              "      <td>Male</td>\n",
              "      <td>No</td>\n",
              "      <td>Yes</td>\n",
              "      <td>No</td>\n",
              "      <td>Yes</td>\n",
              "      <td>No</td>\n",
              "      <td>No</td>\n",
              "      <td>No</td>\n",
              "      <td>Yes</td>\n",
              "      <td>No</td>\n",
              "      <td>Yes</td>\n",
              "      <td>No</td>\n",
              "      <td>Yes</td>\n",
              "      <td>Yes</td>\n",
              "      <td>Yes</td>\n",
              "      <td>Positive</td>\n",
              "    </tr>\n",
              "    <tr>\n",
              "      <th>1</th>\n",
              "      <td>58</td>\n",
              "      <td>Male</td>\n",
              "      <td>No</td>\n",
              "      <td>No</td>\n",
              "      <td>No</td>\n",
              "      <td>Yes</td>\n",
              "      <td>No</td>\n",
              "      <td>No</td>\n",
              "      <td>Yes</td>\n",
              "      <td>No</td>\n",
              "      <td>No</td>\n",
              "      <td>No</td>\n",
              "      <td>Yes</td>\n",
              "      <td>No</td>\n",
              "      <td>Yes</td>\n",
              "      <td>No</td>\n",
              "      <td>Positive</td>\n",
              "    </tr>\n",
              "    <tr>\n",
              "      <th>2</th>\n",
              "      <td>41</td>\n",
              "      <td>Male</td>\n",
              "      <td>Yes</td>\n",
              "      <td>No</td>\n",
              "      <td>No</td>\n",
              "      <td>Yes</td>\n",
              "      <td>Yes</td>\n",
              "      <td>No</td>\n",
              "      <td>No</td>\n",
              "      <td>Yes</td>\n",
              "      <td>No</td>\n",
              "      <td>Yes</td>\n",
              "      <td>No</td>\n",
              "      <td>Yes</td>\n",
              "      <td>Yes</td>\n",
              "      <td>No</td>\n",
              "      <td>Positive</td>\n",
              "    </tr>\n",
              "    <tr>\n",
              "      <th>3</th>\n",
              "      <td>45</td>\n",
              "      <td>Male</td>\n",
              "      <td>No</td>\n",
              "      <td>No</td>\n",
              "      <td>Yes</td>\n",
              "      <td>Yes</td>\n",
              "      <td>Yes</td>\n",
              "      <td>Yes</td>\n",
              "      <td>No</td>\n",
              "      <td>Yes</td>\n",
              "      <td>No</td>\n",
              "      <td>Yes</td>\n",
              "      <td>No</td>\n",
              "      <td>No</td>\n",
              "      <td>No</td>\n",
              "      <td>No</td>\n",
              "      <td>Positive</td>\n",
              "    </tr>\n",
              "    <tr>\n",
              "      <th>4</th>\n",
              "      <td>60</td>\n",
              "      <td>Male</td>\n",
              "      <td>Yes</td>\n",
              "      <td>Yes</td>\n",
              "      <td>Yes</td>\n",
              "      <td>Yes</td>\n",
              "      <td>Yes</td>\n",
              "      <td>No</td>\n",
              "      <td>Yes</td>\n",
              "      <td>Yes</td>\n",
              "      <td>Yes</td>\n",
              "      <td>Yes</td>\n",
              "      <td>Yes</td>\n",
              "      <td>Yes</td>\n",
              "      <td>Yes</td>\n",
              "      <td>Yes</td>\n",
              "      <td>Positive</td>\n",
              "    </tr>\n",
              "  </tbody>\n",
              "</table>\n",
              "</div>"
            ],
            "text/plain": [
              "   Age Gender Polyuria Polydipsia  ... muscle stiffness Alopecia Obesity     class\n",
              "0   40   Male       No        Yes  ...              Yes      Yes     Yes  Positive\n",
              "1   58   Male       No         No  ...               No      Yes      No  Positive\n",
              "2   41   Male      Yes         No  ...              Yes      Yes      No  Positive\n",
              "3   45   Male       No         No  ...               No       No      No  Positive\n",
              "4   60   Male      Yes        Yes  ...              Yes      Yes     Yes  Positive\n",
              "\n",
              "[5 rows x 17 columns]"
            ]
          },
          "metadata": {
            "tags": []
          },
          "execution_count": 12
        }
      ]
    },
    {
      "cell_type": "code",
      "metadata": {
        "id": "BWvR7FaEWXpG",
        "colab": {
          "base_uri": "https://localhost:8080/"
        },
        "outputId": "2aae7c80-a473-4782-ae20-4ee98447d403"
      },
      "source": [
        "data_df.columns\n"
      ],
      "execution_count": 13,
      "outputs": [
        {
          "output_type": "execute_result",
          "data": {
            "text/plain": [
              "Index(['Age', 'Gender', 'Polyuria', 'Polydipsia', 'sudden weight loss',\n",
              "       'weakness', 'Polyphagia', 'Genital thrush', 'visual blurring',\n",
              "       'Itching', 'Irritability', 'delayed healing', 'partial paresis',\n",
              "       'muscle stiffness', 'Alopecia', 'Obesity', 'class'],\n",
              "      dtype='object')"
            ]
          },
          "metadata": {
            "tags": []
          },
          "execution_count": 13
        }
      ]
    },
    {
      "cell_type": "code",
      "metadata": {
        "id": "NwAKmnQqijIB",
        "colab": {
          "base_uri": "https://localhost:8080/"
        },
        "outputId": "f3f9200a-afab-42fe-ecdd-5efafcc78d80"
      },
      "source": [
        "# get the dimensionality and cardinality of the data\n",
        "data_df.shape"
      ],
      "execution_count": 14,
      "outputs": [
        {
          "output_type": "execute_result",
          "data": {
            "text/plain": [
              "(520, 17)"
            ]
          },
          "metadata": {
            "tags": []
          },
          "execution_count": 14
        }
      ]
    },
    {
      "cell_type": "code",
      "metadata": {
        "id": "CzQVmfOSjFS3",
        "colab": {
          "base_uri": "https://localhost:8080/"
        },
        "outputId": "c1b36a69-bddb-4616-e3c6-a727c5d8db6e"
      },
      "source": [
        "data_df.info()"
      ],
      "execution_count": 15,
      "outputs": [
        {
          "output_type": "stream",
          "text": [
            "<class 'pandas.core.frame.DataFrame'>\n",
            "RangeIndex: 520 entries, 0 to 519\n",
            "Data columns (total 17 columns):\n",
            " #   Column              Non-Null Count  Dtype \n",
            "---  ------              --------------  ----- \n",
            " 0   Age                 520 non-null    int64 \n",
            " 1   Gender              520 non-null    object\n",
            " 2   Polyuria            520 non-null    object\n",
            " 3   Polydipsia          520 non-null    object\n",
            " 4   sudden weight loss  520 non-null    object\n",
            " 5   weakness            520 non-null    object\n",
            " 6   Polyphagia          520 non-null    object\n",
            " 7   Genital thrush      520 non-null    object\n",
            " 8   visual blurring     520 non-null    object\n",
            " 9   Itching             520 non-null    object\n",
            " 10  Irritability        520 non-null    object\n",
            " 11  delayed healing     520 non-null    object\n",
            " 12  partial paresis     520 non-null    object\n",
            " 13  muscle stiffness    520 non-null    object\n",
            " 14  Alopecia            520 non-null    object\n",
            " 15  Obesity             520 non-null    object\n",
            " 16  class               520 non-null    object\n",
            "dtypes: int64(1), object(16)\n",
            "memory usage: 69.2+ KB\n"
          ],
          "name": "stdout"
        }
      ]
    },
    {
      "cell_type": "markdown",
      "metadata": {
        "id": "plOvMmi_r58f"
      },
      "source": [
        "## Task 2: Questions would one be interested to ask/answer about this dataset\n",
        " The most intuitive question that we can ask and answer -actually- about the dataset is to predict if a patient has the disease or not basing on his personal (age,gender) and medical information(symptoms). In this case, it is a **classification** problem. \n",
        " An other we may ask is what kind of lnk (correlation) may exist between symptoms. In this case, it would be a **clustring** problem. We can identify the related symptoms if they are in the same cluster."
      ]
    },
    {
      "cell_type": "markdown",
      "metadata": {
        "id": "b1Mj-Xu4tMrq"
      },
      "source": [
        "##Task 3: Prepare a short video\n",
        "Below there is the short video with the following content:\n",
        "* My name and student ID \n",
        "* What is the dataset about and a link where you found it.\n",
        "* What questions one can ask about the dataset? "
      ]
    },
    {
      "cell_type": "code",
      "metadata": {
        "colab": {
          "base_uri": "https://localhost:8080/",
          "height": 336
        },
        "id": "NyqjJaSnkoTZ",
        "outputId": "a7fed0f5-6f90-4e1c-daff-edd06ce6b30a"
      },
      "source": [
        "%%HTML\r\n",
        "<iframe width=\"560\" height=\"315\" src=\"https://www.youtube.com/embed/_mxyX02vsWc\" frameborder=\"0\" allow=\"accelerometer; autoplay; clipboard-write; encrypted-media; gyroscope; picture-in-picture\" allowfullscreen></iframe>"
      ],
      "execution_count": 16,
      "outputs": [
        {
          "output_type": "display_data",
          "data": {
            "text/html": [
              "<iframe width=\"560\" height=\"315\" src=\"https://www.youtube.com/embed/_mxyX02vsWc\" frameborder=\"0\" allow=\"accelerometer; autoplay; clipboard-write; encrypted-media; gyroscope; picture-in-picture\" allowfullscreen></iframe>"
            ],
            "text/plain": [
              "<IPython.core.display.HTML object>"
            ]
          },
          "metadata": {
            "tags": []
          }
        }
      ]
    }
  ]
}